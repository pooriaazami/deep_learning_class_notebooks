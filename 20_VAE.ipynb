{
  "nbformat": 4,
  "nbformat_minor": 0,
  "metadata": {
    "colab": {
      "provenance": [],
      "gpuType": "T4",
      "authorship_tag": "ABX9TyPGSG4yRRvF8loHvT3EG7UH",
      "include_colab_link": true
    },
    "kernelspec": {
      "name": "python3",
      "display_name": "Python 3"
    },
    "language_info": {
      "name": "python"
    },
    "accelerator": "GPU",
    "widgets": {
      "application/vnd.jupyter.widget-state+json": {
        "c6d7f08a091c428bb398e8f6905f13e2": {
          "model_module": "@jupyter-widgets/controls",
          "model_name": "HBoxModel",
          "model_module_version": "1.5.0",
          "state": {
            "_dom_classes": [],
            "_model_module": "@jupyter-widgets/controls",
            "_model_module_version": "1.5.0",
            "_model_name": "HBoxModel",
            "_view_count": null,
            "_view_module": "@jupyter-widgets/controls",
            "_view_module_version": "1.5.0",
            "_view_name": "HBoxView",
            "box_style": "",
            "children": [
              "IPY_MODEL_54d46e6032cf49c5b5db18babc4d22a4",
              "IPY_MODEL_b830c2630dc94824bc7093b411ee60b6",
              "IPY_MODEL_702dff2afb3542eba699ceed1e0c69b3"
            ],
            "layout": "IPY_MODEL_f485fe75dc4348f09c2a8972533e9880"
          }
        },
        "54d46e6032cf49c5b5db18babc4d22a4": {
          "model_module": "@jupyter-widgets/controls",
          "model_name": "HTMLModel",
          "model_module_version": "1.5.0",
          "state": {
            "_dom_classes": [],
            "_model_module": "@jupyter-widgets/controls",
            "_model_module_version": "1.5.0",
            "_model_name": "HTMLModel",
            "_view_count": null,
            "_view_module": "@jupyter-widgets/controls",
            "_view_module_version": "1.5.0",
            "_view_name": "HTMLView",
            "description": "",
            "description_tooltip": null,
            "layout": "IPY_MODEL_80518ea779d24d2d8515518214408396",
            "placeholder": "​",
            "style": "IPY_MODEL_71cf98cfa5ec427691734b04e27ba4d2",
            "value": "100%"
          }
        },
        "b830c2630dc94824bc7093b411ee60b6": {
          "model_module": "@jupyter-widgets/controls",
          "model_name": "FloatProgressModel",
          "model_module_version": "1.5.0",
          "state": {
            "_dom_classes": [],
            "_model_module": "@jupyter-widgets/controls",
            "_model_module_version": "1.5.0",
            "_model_name": "FloatProgressModel",
            "_view_count": null,
            "_view_module": "@jupyter-widgets/controls",
            "_view_module_version": "1.5.0",
            "_view_name": "ProgressView",
            "bar_style": "success",
            "description": "",
            "description_tooltip": null,
            "layout": "IPY_MODEL_16d602e15db8405eaabf7177d9577444",
            "max": 50650,
            "min": 0,
            "orientation": "horizontal",
            "style": "IPY_MODEL_c19a8b393e5544d7963923acdd038519",
            "value": 50650
          }
        },
        "702dff2afb3542eba699ceed1e0c69b3": {
          "model_module": "@jupyter-widgets/controls",
          "model_name": "HTMLModel",
          "model_module_version": "1.5.0",
          "state": {
            "_dom_classes": [],
            "_model_module": "@jupyter-widgets/controls",
            "_model_module_version": "1.5.0",
            "_model_name": "HTMLModel",
            "_view_count": null,
            "_view_module": "@jupyter-widgets/controls",
            "_view_module_version": "1.5.0",
            "_view_name": "HTMLView",
            "description": "",
            "description_tooltip": null,
            "layout": "IPY_MODEL_f8b3489fad2d4f45a235c91a25ca8be0",
            "placeholder": "​",
            "style": "IPY_MODEL_54e97064bad248869fd98681d7fe6638",
            "value": " 50650/50650 [11:47&lt;00:00, 68.16it/s]"
          }
        },
        "f485fe75dc4348f09c2a8972533e9880": {
          "model_module": "@jupyter-widgets/base",
          "model_name": "LayoutModel",
          "model_module_version": "1.2.0",
          "state": {
            "_model_module": "@jupyter-widgets/base",
            "_model_module_version": "1.2.0",
            "_model_name": "LayoutModel",
            "_view_count": null,
            "_view_module": "@jupyter-widgets/base",
            "_view_module_version": "1.2.0",
            "_view_name": "LayoutView",
            "align_content": null,
            "align_items": null,
            "align_self": null,
            "border": null,
            "bottom": null,
            "display": null,
            "flex": null,
            "flex_flow": null,
            "grid_area": null,
            "grid_auto_columns": null,
            "grid_auto_flow": null,
            "grid_auto_rows": null,
            "grid_column": null,
            "grid_gap": null,
            "grid_row": null,
            "grid_template_areas": null,
            "grid_template_columns": null,
            "grid_template_rows": null,
            "height": null,
            "justify_content": null,
            "justify_items": null,
            "left": null,
            "margin": null,
            "max_height": null,
            "max_width": null,
            "min_height": null,
            "min_width": null,
            "object_fit": null,
            "object_position": null,
            "order": null,
            "overflow": null,
            "overflow_x": null,
            "overflow_y": null,
            "padding": null,
            "right": null,
            "top": null,
            "visibility": null,
            "width": null
          }
        },
        "80518ea779d24d2d8515518214408396": {
          "model_module": "@jupyter-widgets/base",
          "model_name": "LayoutModel",
          "model_module_version": "1.2.0",
          "state": {
            "_model_module": "@jupyter-widgets/base",
            "_model_module_version": "1.2.0",
            "_model_name": "LayoutModel",
            "_view_count": null,
            "_view_module": "@jupyter-widgets/base",
            "_view_module_version": "1.2.0",
            "_view_name": "LayoutView",
            "align_content": null,
            "align_items": null,
            "align_self": null,
            "border": null,
            "bottom": null,
            "display": null,
            "flex": null,
            "flex_flow": null,
            "grid_area": null,
            "grid_auto_columns": null,
            "grid_auto_flow": null,
            "grid_auto_rows": null,
            "grid_column": null,
            "grid_gap": null,
            "grid_row": null,
            "grid_template_areas": null,
            "grid_template_columns": null,
            "grid_template_rows": null,
            "height": null,
            "justify_content": null,
            "justify_items": null,
            "left": null,
            "margin": null,
            "max_height": null,
            "max_width": null,
            "min_height": null,
            "min_width": null,
            "object_fit": null,
            "object_position": null,
            "order": null,
            "overflow": null,
            "overflow_x": null,
            "overflow_y": null,
            "padding": null,
            "right": null,
            "top": null,
            "visibility": null,
            "width": null
          }
        },
        "71cf98cfa5ec427691734b04e27ba4d2": {
          "model_module": "@jupyter-widgets/controls",
          "model_name": "DescriptionStyleModel",
          "model_module_version": "1.5.0",
          "state": {
            "_model_module": "@jupyter-widgets/controls",
            "_model_module_version": "1.5.0",
            "_model_name": "DescriptionStyleModel",
            "_view_count": null,
            "_view_module": "@jupyter-widgets/base",
            "_view_module_version": "1.2.0",
            "_view_name": "StyleView",
            "description_width": ""
          }
        },
        "16d602e15db8405eaabf7177d9577444": {
          "model_module": "@jupyter-widgets/base",
          "model_name": "LayoutModel",
          "model_module_version": "1.2.0",
          "state": {
            "_model_module": "@jupyter-widgets/base",
            "_model_module_version": "1.2.0",
            "_model_name": "LayoutModel",
            "_view_count": null,
            "_view_module": "@jupyter-widgets/base",
            "_view_module_version": "1.2.0",
            "_view_name": "LayoutView",
            "align_content": null,
            "align_items": null,
            "align_self": null,
            "border": null,
            "bottom": null,
            "display": null,
            "flex": null,
            "flex_flow": null,
            "grid_area": null,
            "grid_auto_columns": null,
            "grid_auto_flow": null,
            "grid_auto_rows": null,
            "grid_column": null,
            "grid_gap": null,
            "grid_row": null,
            "grid_template_areas": null,
            "grid_template_columns": null,
            "grid_template_rows": null,
            "height": null,
            "justify_content": null,
            "justify_items": null,
            "left": null,
            "margin": null,
            "max_height": null,
            "max_width": null,
            "min_height": null,
            "min_width": null,
            "object_fit": null,
            "object_position": null,
            "order": null,
            "overflow": null,
            "overflow_x": null,
            "overflow_y": null,
            "padding": null,
            "right": null,
            "top": null,
            "visibility": null,
            "width": null
          }
        },
        "c19a8b393e5544d7963923acdd038519": {
          "model_module": "@jupyter-widgets/controls",
          "model_name": "ProgressStyleModel",
          "model_module_version": "1.5.0",
          "state": {
            "_model_module": "@jupyter-widgets/controls",
            "_model_module_version": "1.5.0",
            "_model_name": "ProgressStyleModel",
            "_view_count": null,
            "_view_module": "@jupyter-widgets/base",
            "_view_module_version": "1.2.0",
            "_view_name": "StyleView",
            "bar_color": null,
            "description_width": ""
          }
        },
        "f8b3489fad2d4f45a235c91a25ca8be0": {
          "model_module": "@jupyter-widgets/base",
          "model_name": "LayoutModel",
          "model_module_version": "1.2.0",
          "state": {
            "_model_module": "@jupyter-widgets/base",
            "_model_module_version": "1.2.0",
            "_model_name": "LayoutModel",
            "_view_count": null,
            "_view_module": "@jupyter-widgets/base",
            "_view_module_version": "1.2.0",
            "_view_name": "LayoutView",
            "align_content": null,
            "align_items": null,
            "align_self": null,
            "border": null,
            "bottom": null,
            "display": null,
            "flex": null,
            "flex_flow": null,
            "grid_area": null,
            "grid_auto_columns": null,
            "grid_auto_flow": null,
            "grid_auto_rows": null,
            "grid_column": null,
            "grid_gap": null,
            "grid_row": null,
            "grid_template_areas": null,
            "grid_template_columns": null,
            "grid_template_rows": null,
            "height": null,
            "justify_content": null,
            "justify_items": null,
            "left": null,
            "margin": null,
            "max_height": null,
            "max_width": null,
            "min_height": null,
            "min_width": null,
            "object_fit": null,
            "object_position": null,
            "order": null,
            "overflow": null,
            "overflow_x": null,
            "overflow_y": null,
            "padding": null,
            "right": null,
            "top": null,
            "visibility": null,
            "width": null
          }
        },
        "54e97064bad248869fd98681d7fe6638": {
          "model_module": "@jupyter-widgets/controls",
          "model_name": "DescriptionStyleModel",
          "model_module_version": "1.5.0",
          "state": {
            "_model_module": "@jupyter-widgets/controls",
            "_model_module_version": "1.5.0",
            "_model_name": "DescriptionStyleModel",
            "_view_count": null,
            "_view_module": "@jupyter-widgets/base",
            "_view_module_version": "1.2.0",
            "_view_name": "StyleView",
            "description_width": ""
          }
        }
      }
    }
  },
  "cells": [
    {
      "cell_type": "markdown",
      "metadata": {
        "id": "view-in-github",
        "colab_type": "text"
      },
      "source": [
        "<a href=\"https://colab.research.google.com/github/pooriaazami/deep_learning_class_notebooks/blob/main/20_VAE.ipynb\" target=\"_parent\"><img src=\"https://colab.research.google.com/assets/colab-badge.svg\" alt=\"Open In Colab\"/></a>"
      ]
    },
    {
      "cell_type": "code",
      "source": [
        "!pip install -q kaggle"
      ],
      "metadata": {
        "id": "iK7hBHQd-CVm"
      },
      "execution_count": 1,
      "outputs": []
    },
    {
      "cell_type": "code",
      "source": [
        "from google.colab import files\n",
        "from IPython.display import clear_output"
      ],
      "metadata": {
        "id": "1MWLpzAh-E4f"
      },
      "execution_count": 2,
      "outputs": []
    },
    {
      "cell_type": "code",
      "source": [
        "files.upload()\n",
        "clear_output()"
      ],
      "metadata": {
        "id": "p50eKe-2-Las"
      },
      "execution_count": 3,
      "outputs": []
    },
    {
      "cell_type": "code",
      "source": [
        "!mkdir /root/.kaggle\n",
        "!mv kaggle.json /root/.kaggle/kaggle.json\n",
        "!chmod 600 /root/.kaggle/kaggle.json"
      ],
      "metadata": {
        "id": "NgFGy5Ca-POp"
      },
      "execution_count": 4,
      "outputs": []
    },
    {
      "cell_type": "code",
      "source": [
        "!kaggle datasets download -d jessicali9530/celeba-dataset"
      ],
      "metadata": {
        "colab": {
          "base_uri": "https://localhost:8080/"
        },
        "id": "IoJW690Q-WvM",
        "outputId": "884854b4-9234-4bff-a485-07cfab279e26"
      },
      "execution_count": 21,
      "outputs": [
        {
          "output_type": "stream",
          "name": "stdout",
          "text": [
            "Dataset URL: https://www.kaggle.com/datasets/jessicali9530/celeba-dataset\n",
            "License(s): other\n",
            "Downloading celeba-dataset.zip to /content\n",
            " 99% 1.31G/1.33G [00:07<00:00, 211MB/s]\n",
            "100% 1.33G/1.33G [00:07<00:00, 191MB/s]\n"
          ]
        }
      ]
    },
    {
      "cell_type": "code",
      "source": [
        "!unzip celeba-dataset.zip\n",
        "!mkdir dataset\n",
        "!mv img_align_celeba/img_align_celeba/ dataset\n",
        "!rm -rf *.csv\n",
        "!rm -rf *.zip\n",
        "clear_output()"
      ],
      "metadata": {
        "id": "J11zkRdM-aQs"
      },
      "execution_count": 22,
      "outputs": []
    },
    {
      "cell_type": "code",
      "source": [
        "!rm -rf celeba-dataset.zip"
      ],
      "metadata": {
        "id": "j6ASNFSz_DhB"
      },
      "execution_count": 24,
      "outputs": []
    },
    {
      "cell_type": "code",
      "execution_count": 8,
      "metadata": {
        "id": "rrgq4ivgyXfA"
      },
      "outputs": [],
      "source": [
        "import os\n",
        "import glob\n",
        "from itertools import chain\n",
        "\n",
        "import torch\n",
        "import torch.nn as nn\n",
        "import torch.nn.functional as F\n",
        "import torch.optim as optim\n",
        "\n",
        "from torch.utils.data import Dataset, DataLoader\n",
        "\n",
        "import torchvision as tv\n",
        "import torchvision.transforms as T\n",
        "\n",
        "from PIL import Image\n",
        "\n",
        "import numpy as np\n",
        "import matplotlib.pyplot as plt\n",
        "\n",
        "from tqdm.notebook import tqdm"
      ]
    },
    {
      "cell_type": "code",
      "source": [
        "DATASET_PATH = 'dataset/img_align_celeba/'\n",
        "\n",
        "IMAGE_SIZE = 64\n",
        "LATENT_DIM = 128\n",
        "BATCH_SIZE = 4\n",
        "EPOCHS = 1\n",
        "LR = 1e-3\n",
        "\n",
        "LAMBDA = .1\n",
        "\n",
        "DEVICE = 'cuda' if torch.cuda.is_available() else 'cpu'"
      ],
      "metadata": {
        "id": "advzRWLk8ta0"
      },
      "execution_count": 42,
      "outputs": []
    },
    {
      "cell_type": "code",
      "source": [
        "class CelebADataset(Dataset):\n",
        "  def __init__(self, root, transforms=None):\n",
        "    self.images = glob.glob(f'{root}/*.jpg')\n",
        "\n",
        "    self.transforms = transforms\n",
        "\n",
        "  def __len__(self):\n",
        "    return len(self.images)\n",
        "\n",
        "  def __getitem__(self, idx):\n",
        "    image = self.images[idx]\n",
        "    image = Image.open(image).convert('RGB')\n",
        "\n",
        "    if self.transforms:\n",
        "      image = self.transforms(image)\n",
        "\n",
        "    return image"
      ],
      "metadata": {
        "id": "rw7YjTjH__RG"
      },
      "execution_count": 10,
      "outputs": []
    },
    {
      "cell_type": "code",
      "source": [
        "class EncoderBlock(nn.Module):\n",
        "  def __init__(self, in_channels, out_channels):\n",
        "    super().__init__()\n",
        "\n",
        "    self.layers = nn.Sequential(\n",
        "        nn.Conv2d(in_channels=in_channels, out_channels=out_channels, kernel_size=3, stride=2, padding=1),\n",
        "        nn.BatchNorm2d(out_channels),\n",
        "        nn.LeakyReLU()\n",
        "    )\n",
        "\n",
        "  def forward(self, x):\n",
        "    return self.layers(x)"
      ],
      "metadata": {
        "id": "5YFtZMD75oQC"
      },
      "execution_count": 11,
      "outputs": []
    },
    {
      "cell_type": "code",
      "source": [
        "class DecoderBlock(nn.Module):\n",
        "  def __init__(self, in_channels, out_channels):\n",
        "    super().__init__()\n",
        "\n",
        "    self.layers = nn.Sequential(\n",
        "        nn.ConvTranspose2d(in_channels=in_channels,\n",
        "        out_channels=out_channels,\n",
        "        kernel_size=3,\n",
        "        stride=2,\n",
        "        padding=1,\n",
        "        output_padding=1),\n",
        "        nn.BatchNorm2d(out_channels),\n",
        "        nn.LeakyReLU(),\n",
        "    )\n",
        "\n",
        "  def forward(self, x):\n",
        "    return self.layers(x)"
      ],
      "metadata": {
        "id": "jgubvyvG6Jdi"
      },
      "execution_count": 12,
      "outputs": []
    },
    {
      "cell_type": "code",
      "source": [
        "class DecoderOutput(nn.Module):\n",
        "  def __init__(self, in_channels, out_channels):\n",
        "    super().__init__()\n",
        "\n",
        "    self.layers = nn.Sequential(\n",
        "        nn.Conv2d(in_channels=in_channels,\n",
        "        out_channels=out_channels,\n",
        "        kernel_size=3,\n",
        "        padding=1),\n",
        "        nn.Tanh()\n",
        "    )\n",
        "\n",
        "  def forward(self, x):\n",
        "    return self.layers(x)"
      ],
      "metadata": {
        "id": "ulpNJM5q6oUO"
      },
      "execution_count": 13,
      "outputs": []
    },
    {
      "cell_type": "code",
      "source": [
        "class Encoder(nn.Module):\n",
        "  def __init__(self, latent_dim):\n",
        "    super().__init__()\n",
        "\n",
        "    self.conv_layers = nn.Sequential(\n",
        "        EncoderBlock(3, 32),\n",
        "        EncoderBlock(32, 64),\n",
        "        EncoderBlock(64, 128),\n",
        "        EncoderBlock(128, 256),\n",
        "        EncoderBlock(256, 512)\n",
        "    )\n",
        "\n",
        "    self.mu = nn.Linear(512 * 4, latent_dim)\n",
        "    self.log_std = nn.Linear(512 * 4, latent_dim)\n",
        "\n",
        "  def forward(self, x):\n",
        "    x = self.conv_layers(x)\n",
        "    x = torch.flatten(x, start_dim=1)\n",
        "\n",
        "    mu = self.mu(x)\n",
        "    log_std = self.log_std(x)\n",
        "\n",
        "    return mu, log_std"
      ],
      "metadata": {
        "id": "7fHXciYc7FVC"
      },
      "execution_count": 14,
      "outputs": []
    },
    {
      "cell_type": "code",
      "source": [
        "class Decoder(nn.Module):\n",
        "  def __init__(self, latent_dim):\n",
        "    super().__init__()\n",
        "\n",
        "    self.conv_layers = nn.Sequential(\n",
        "        DecoderBlock(512, 256),\n",
        "        DecoderBlock(256, 128),\n",
        "        DecoderBlock(128, 64),\n",
        "        DecoderBlock(64, 32),\n",
        "        DecoderBlock(32, 32),\n",
        "        DecoderOutput(32, 3)\n",
        "    )\n",
        "\n",
        "    self.input_layer = nn.Linear(latent_dim, 512 * 4)\n",
        "\n",
        "  def forward(self, x):\n",
        "    x = self.input_layer(x)\n",
        "    x = x.view(-1, 512, 2, 2)\n",
        "\n",
        "    x = self.conv_layers(x)\n",
        "\n",
        "    return x"
      ],
      "metadata": {
        "id": "pcGYxgja7vA_"
      },
      "execution_count": 15,
      "outputs": []
    },
    {
      "cell_type": "code",
      "source": [
        "def reparameterize(mu, log_std):\n",
        "  std = torch.exp(.5 * log_std)\n",
        "  eps = torch.randn_like(mu)\n",
        "\n",
        "  z = mu + eps * std\n",
        "  return z"
      ],
      "metadata": {
        "id": "wGGEA8FOBXR9"
      },
      "execution_count": 16,
      "outputs": []
    },
    {
      "cell_type": "code",
      "source": [
        "mse_loss = nn.MSELoss()\n",
        "\n",
        "def criterion(x, reconstructed_x, mu, log_std):\n",
        "  reconstruction_loss = mse_loss(x, reconstructed_x)\n",
        "  kld_loss = torch.sum( -.5 * torch.sum(1 + log_std - mu ** 2 - log_std.exp(), dim=1) ,dim=0)\n",
        "\n",
        "  return reconstruction_loss + LAMBDA * kld_loss"
      ],
      "metadata": {
        "id": "LrXRQAmABtIL"
      },
      "execution_count": 17,
      "outputs": []
    },
    {
      "cell_type": "code",
      "source": [
        "transforms = T.Compose([\n",
        "    T.ToTensor(),\n",
        "    T.Resize((IMAGE_SIZE, IMAGE_SIZE))\n",
        "])\n",
        "\n",
        "dataset = CelebADataset(DATASET_PATH, transforms=transforms)\n",
        "dataloader = DataLoader(dataset, batch_size=BATCH_SIZE, shuffle=True)"
      ],
      "metadata": {
        "id": "ZtZofHcUAxrz"
      },
      "execution_count": 25,
      "outputs": []
    },
    {
      "cell_type": "code",
      "source": [
        "encoder = Encoder(LATENT_DIM).to(DEVICE)\n",
        "decoder = Decoder(LATENT_DIM).to(DEVICE)"
      ],
      "metadata": {
        "id": "zqrIP_908ZIV"
      },
      "execution_count": 26,
      "outputs": []
    },
    {
      "cell_type": "code",
      "source": [
        "optimizer = optim.Adam(chain(encoder.parameters(), decoder.parameters()), lr=LR)"
      ],
      "metadata": {
        "id": "E4DgDIj6BFt2"
      },
      "execution_count": 27,
      "outputs": []
    },
    {
      "cell_type": "code",
      "source": [
        "for epoch in range(1, EPOCHS + 1):\n",
        "  print(f'Epoch {epoch}/{EPOCHS}')\n",
        "  total_loss = .0\n",
        "  for image in tqdm(dataloader):\n",
        "    optimizer.zero_grad()\n",
        "\n",
        "    image = image.to(DEVICE)\n",
        "    mu, log_std = encoder(image)\n",
        "    z = reparameterize(mu, log_std)\n",
        "    reconstucted_image = decoder(z)\n",
        "\n",
        "    loss = criterion(image, reconstucted_image, mu, log_std)\n",
        "    loss.backward()\n",
        "    optimizer.step()\n",
        "\n",
        "    total_loss += loss.detach().cpu().item()\n",
        "\n",
        "  print(f'loss: {total_loss:.2f}')"
      ],
      "metadata": {
        "colab": {
          "base_uri": "https://localhost:8080/",
          "height": 85,
          "referenced_widgets": [
            "c6d7f08a091c428bb398e8f6905f13e2",
            "54d46e6032cf49c5b5db18babc4d22a4",
            "b830c2630dc94824bc7093b411ee60b6",
            "702dff2afb3542eba699ceed1e0c69b3",
            "f485fe75dc4348f09c2a8972533e9880",
            "80518ea779d24d2d8515518214408396",
            "71cf98cfa5ec427691734b04e27ba4d2",
            "16d602e15db8405eaabf7177d9577444",
            "c19a8b393e5544d7963923acdd038519",
            "f8b3489fad2d4f45a235c91a25ca8be0",
            "54e97064bad248869fd98681d7fe6638"
          ]
        },
        "id": "jnHA4SNA9AOi",
        "outputId": "440cf4d0-b5f1-4431-cf27-abb4d0597b35"
      },
      "execution_count": 30,
      "outputs": [
        {
          "output_type": "stream",
          "name": "stdout",
          "text": [
            "Epoch 1/1\n"
          ]
        },
        {
          "output_type": "display_data",
          "data": {
            "text/plain": [
              "  0%|          | 0/50650 [00:00<?, ?it/s]"
            ],
            "application/vnd.jupyter.widget-view+json": {
              "version_major": 2,
              "version_minor": 0,
              "model_id": "c6d7f08a091c428bb398e8f6905f13e2"
            }
          },
          "metadata": {}
        },
        {
          "output_type": "stream",
          "name": "stdout",
          "text": [
            "loss: 4961.29\n"
          ]
        }
      ]
    },
    {
      "cell_type": "code",
      "source": [
        "num_images = 8\n",
        "\n",
        "with torch.no_grad():\n",
        "  noise = torch.randn(num_images, LATENT_DIM).to(DEVICE)\n",
        "  generated_images = decoder(noise).cpu().numpy()\n",
        "\n",
        "fig, axs = plt.subplots(1, num_images, figsize=(10, 8))\n",
        "for i in range(num_images):\n",
        "  image = generated_images[i].transpose((1, 2, 0))\n",
        "  axs[i].imshow(image)\n",
        "  axs[i].axis('off')\n",
        "\n",
        "plt.show()"
      ],
      "metadata": {
        "colab": {
          "base_uri": "https://localhost:8080/",
          "height": 119
        },
        "id": "EzpIB6BQC1Pp",
        "outputId": "4fb34155-940e-4336-fed2-e1bdd8eeb18b"
      },
      "execution_count": 41,
      "outputs": [
        {
          "output_type": "display_data",
          "data": {
            "text/plain": [
              "<Figure size 1000x800 with 8 Axes>"
            ],
            "image/png": "[encoded data removed]"
          },
          "metadata": {}
        }
      ]
    },
    {
      "cell_type": "code",
      "source": [],
      "metadata": {
        "id": "aH0MnbJyIRAs"
      },
      "execution_count": null,
      "outputs": []
    }
  ]
}