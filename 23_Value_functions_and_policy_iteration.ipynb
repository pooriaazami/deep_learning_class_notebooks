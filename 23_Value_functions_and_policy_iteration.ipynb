{
  "nbformat": 4,
  "nbformat_minor": 0,
  "metadata": {
    "colab": {
      "provenance": [],
      "authorship_tag": "ABX9TyN0jZMs8LETkT8dHP5fS1rg",
      "include_colab_link": true
    },
    "kernelspec": {
      "name": "python3",
      "display_name": "Python 3"
    },
    "language_info": {
      "name": "python"
    }
  },
  "cells": [
    {
      "cell_type": "markdown",
      "metadata": {
        "id": "view-in-github",
        "colab_type": "text"
      },
      "source": [
        "<a href=\"https://colab.research.google.com/github/pooriaazami/deep_learning_class_notebooks/blob/main/23_Value_functions_and_policy_iteration.ipynb\" target=\"_parent\"><img src=\"https://colab.research.google.com/assets/colab-badge.svg\" alt=\"Open In Colab\"/></a>"
      ]
    },
    {
      "cell_type": "code",
      "execution_count": 1,
      "metadata": {
        "id": "Fz5lLqGQzR5M"
      },
      "outputs": [],
      "source": [
        "import numpy as np"
      ]
    },
    {
      "cell_type": "code",
      "source": [
        "class Environment:\n",
        "  def __init__(self):\n",
        "    self.x = 2\n",
        "    self.y = 2\n",
        "    self.A = (0, 1)\n",
        "    self.B = (0, 3)\n",
        "    self.A_next = (1, 4)\n",
        "    self.B_next = (3, 2)\n",
        "    self.edge_size = 5\n",
        "\n",
        "  def calculate_next(self, y, x, move):\n",
        "    if isinstance(move, str):\n",
        "      move = move.lower()\n",
        "    new_x, new_y = x, y\n",
        "\n",
        "    if move in ('u', 'up', 0):\n",
        "      new_y -= 1\n",
        "    elif move in ('d', 'down', 1):\n",
        "      new_y += 1\n",
        "    elif move in ('r', 'right', 2):\n",
        "      new_x += 1\n",
        "    elif move in ('l', 'left', 3):\n",
        "      new_x -= 1\n",
        "\n",
        "    if (y, x) == self.A:\n",
        "      new_x, new_y = self.A_next\n",
        "      reward = 10\n",
        "    elif (y, x) == self.B:\n",
        "      new_x, new_y = self.B_next\n",
        "      reward = 5\n",
        "    elif new_x < 0 or new_x >= self.edge_size:\n",
        "      new_x, new_y = x, y\n",
        "      reward = -1\n",
        "    elif new_y < 0 or new_y >= self.edge_size:\n",
        "      new_x, new_y = x, y\n",
        "      reward = -1\n",
        "    else:\n",
        "      reward = 0\n",
        "\n",
        "    return new_y, new_x, reward\n",
        "\n",
        "  def step(self, move):\n",
        "    new_y, new_x, reward = self.calculate_next(self.y, self.x, move)\n",
        "\n",
        "    self.y = new_y\n",
        "    self.x = new_x\n",
        "\n",
        "    return reward\n",
        "\n",
        "  def predict_reward(self, y, x, move):\n",
        "    new_y, new_x, reward = self.calculate_next(y, x, move)\n",
        "    return new_y, new_x, reward\n",
        "\n",
        "  def reset(self):\n",
        "    self.x = 2\n",
        "    self.y = 2\n",
        "\n",
        "  @property\n",
        "  def moves(self):\n",
        "    return range(4)\n",
        "\n",
        "  def __repr__(self):\n",
        "    val = ''\n",
        "    for i in range(self.edge_size):\n",
        "      for j in range(self.edge_size):\n",
        "        if i == self.y and j == self.x:\n",
        "          val += '*'\n",
        "        else:\n",
        "          val += '_'\n",
        "      val += '\\n'\n",
        "    return val"
      ],
      "metadata": {
        "id": "7fxGRyVVzf1U"
      },
      "execution_count": 126,
      "outputs": []
    },
    {
      "cell_type": "code",
      "source": [
        "def argmax(values):\n",
        "  maximum = float('-inf')\n",
        "  moves = []\n",
        "\n",
        "  for i, value in enumerate(values):\n",
        "    if value > maximum:\n",
        "      moves = [i]\n",
        "      maximum = value\n",
        "    elif value == maximum:\n",
        "      moves.append(i)\n",
        "\n",
        "  return moves"
      ],
      "metadata": {
        "id": "SBIJaIUV-ELw"
      },
      "execution_count": 161,
      "outputs": []
    },
    {
      "cell_type": "code",
      "source": [
        "def calculate_value_function(env, policy, gamma=.9):\n",
        "  value_function = np.zeros((5, 5))\n",
        "\n",
        "  for _ in range(50):\n",
        "    for i in range(5):\n",
        "      for j in range(5):\n",
        "        temp = 0\n",
        "        for a in env.moves:\n",
        "          next_y, next_x, reward = env.predict_reward(i, j, a)\n",
        "          temp += policy[i, j, a] * (reward + gamma * value_function[next_y, next_x])\n",
        "        value_function[i, j] = temp\n",
        "\n",
        "  return value_function"
      ],
      "metadata": {
        "id": "v4175Xl_1h84"
      },
      "execution_count": 134,
      "outputs": []
    },
    {
      "cell_type": "code",
      "source": [
        "def update_policy(value_function):\n",
        "  new_policy = np.zeros((5, 5, 4))\n",
        "\n",
        "  for i in range(5):\n",
        "    for j in range(5):\n",
        "      l = []\n",
        "      for a in env.moves:\n",
        "        new_y, new_x, _ = env.predict_reward(i, j, a)\n",
        "        l.append(value_function[new_y, new_x])\n",
        "      maximums = argmax(l)\n",
        "\n",
        "      new_policy[i, j, maximums] = 1 / len(maximums)\n",
        "\n",
        "  return new_policy"
      ],
      "metadata": {
        "id": "Vd9Wp36NAAfM"
      },
      "execution_count": 171,
      "outputs": []
    },
    {
      "cell_type": "code",
      "source": [
        "env = Environment()"
      ],
      "metadata": {
        "id": "AdXjN_rG1fVy"
      },
      "execution_count": 172,
      "outputs": []
    },
    {
      "cell_type": "code",
      "source": [
        "policy = np.ones((5, 5, 4)) * .25"
      ],
      "metadata": {
        "id": "XQdAZ2KQ8nn5"
      },
      "execution_count": 173,
      "outputs": []
    },
    {
      "cell_type": "code",
      "source": [
        "for _ in range(10):\n",
        "  value_function = calculate_value_function(env, policy)\n",
        "  policy = update_policy(value_function)"
      ],
      "metadata": {
        "id": "ZEUZexM15bAb"
      },
      "execution_count": 174,
      "outputs": []
    },
    {
      "cell_type": "code",
      "source": [
        "value_function # Q table"
      ],
      "metadata": {
        "colab": {
          "base_uri": "https://localhost:8080/"
        },
        "id": "Q1ey6vjm9Jgw",
        "outputId": "4072c658-1386-4fce-82e4-cb718f90e9a2"
      },
      "execution_count": 175,
      "outputs": [
        {
          "output_type": "execute_result",
          "data": {
            "text/plain": [
              "array([[21.97748529, 24.4194281 , 21.97748529, 19.4194281 , 17.47748529],\n",
              "       [19.77973676, 21.97748529, 19.77973676, 17.80176308, 16.02158677],\n",
              "       [17.80176308, 19.77973676, 17.80176308, 16.02158677, 14.4194281 ],\n",
              "       [16.02158677, 17.80176308, 16.02158677, 14.4194281 , 12.97748529],\n",
              "       [14.4194281 , 16.02158677, 14.4194281 , 12.97748529, 11.67973676]])"
            ]
          },
          "metadata": {},
          "execution_count": 175
        }
      ]
    },
    {
      "cell_type": "code",
      "source": [
        "moves = ['U', 'D', 'R', 'L']\n",
        "\n",
        "for i in range(5):\n",
        "  print('|', end='')\n",
        "  for j in range(5):\n",
        "    for a in env.moves:\n",
        "      if policy[i, j, a] != 0:\n",
        "        print(moves[a], end='')\n",
        "      else:\n",
        "        print(' ', end='')\n",
        "    print('|', end='')\n",
        "  print('')"
      ],
      "metadata": {
        "colab": {
          "base_uri": "https://localhost:8080/"
        },
        "id": "N9X8m-LH9UfU",
        "outputId": "b619cb70-3ca9-4aef-d4c5-e60917e2ba90"
      },
      "execution_count": 181,
      "outputs": [
        {
          "output_type": "stream",
          "name": "stdout",
          "text": [
            "|  R |UDRL|   L|UDRL|   L|\n",
            "|  R |U   |U  L|   L|   L|\n",
            "|  R |U   |U  L|U  L|U  L|\n",
            "|  R |U   |U  L|U  L|U  L|\n",
            "|  R |U   |U  L|U  L|U  L|\n"
          ]
        }
      ]
    },
    {
      "cell_type": "code",
      "source": [],
      "metadata": {
        "id": "OXFIubz3_IyX"
      },
      "execution_count": null,
      "outputs": []
    }
  ]
}