{
  "nbformat": 4,
  "nbformat_minor": 0,
  "metadata": {
    "colab": {
      "provenance": [],
      "authorship_tag": "ABX9TyM4+5u2E899RPT5eXzO/42D",
      "include_colab_link": true
    },
    "kernelspec": {
      "name": "python3",
      "display_name": "Python 3"
    },
    "language_info": {
      "name": "python"
    }
  },
  "cells": [
    {
      "cell_type": "markdown",
      "metadata": {
        "id": "view-in-github",
        "colab_type": "text"
      },
      "source": [
        "<a href=\"https://colab.research.google.com/github/pooriaazami/deep_learning_class_notebooks/blob/main/24_Double_Deep_Q_Learning_1_gym_intro.ipynb\" target=\"_parent\"><img src=\"https://colab.research.google.com/assets/colab-badge.svg\" alt=\"Open In Colab\"/></a>"
      ]
    },
    {
      "cell_type": "code",
      "source": [
        "!pip install -q pyvirtualdisplay\n",
        "!pip install -q swig\n",
        "!pip install -q gymnasium[all]"
      ],
      "metadata": {
        "colab": {
          "base_uri": "https://localhost:8080/"
        },
        "id": "OqttDVvk0LTA",
        "outputId": "5247d6e3-b297-47fd-efde-1fbf7f30090a"
      },
      "execution_count": 12,
      "outputs": [
        {
          "output_type": "stream",
          "name": "stdout",
          "text": [
            "  Preparing metadata (setup.py) ... \u001b[?25l\u001b[?25hdone\n",
            "  Building wheel for box2d-py (setup.py) ... \u001b[?25l\u001b[?25hdone\n"
          ]
        }
      ]
    },
    {
      "cell_type": "code",
      "execution_count": 117,
      "metadata": {
        "id": "ufYQ8d50z_6t"
      },
      "outputs": [],
      "source": [
        "import gymnasium as gym\n",
        "import numpy as np\n",
        "import matplotlib.pyplot as plt\n",
        "\n",
        "import random\n",
        "from collections import namedtuple, deque\n",
        "\n",
        "from IPython.display import clear_output"
      ]
    },
    {
      "cell_type": "code",
      "source": [
        "env = gym.make(\"LunarLander-v2\", render_mode=\"rgb_array\")"
      ],
      "metadata": {
        "id": "jNSDYwlI0HL4"
      },
      "execution_count": 28,
      "outputs": []
    },
    {
      "cell_type": "code",
      "source": [
        "observation, info = env.reset()"
      ],
      "metadata": {
        "id": "G8V5e4Lb0Zgj"
      },
      "execution_count": 29,
      "outputs": []
    },
    {
      "cell_type": "code",
      "source": [
        "observation"
      ],
      "metadata": {
        "colab": {
          "base_uri": "https://localhost:8080/"
        },
        "id": "Bg3ih6gk27ll",
        "outputId": "cf92c132-f634-4f83-9c72-c5b3df1e52cd"
      },
      "execution_count": 32,
      "outputs": [
        {
          "output_type": "execute_result",
          "data": {
            "text/plain": [
              "array([-0.00484533,  1.408985  , -0.4908019 , -0.08600599,  0.00562137,\n",
              "        0.11117391,  0.        ,  0.        ], dtype=float32)"
            ]
          },
          "metadata": {},
          "execution_count": 32
        }
      ]
    },
    {
      "cell_type": "code",
      "source": [
        "env.action_space.sample()"
      ],
      "metadata": {
        "colab": {
          "base_uri": "https://localhost:8080/"
        },
        "id": "z5qq_0PW5YXC",
        "outputId": "ee96bf80-3dce-4141-8f79-4ac61bd0ce92"
      },
      "execution_count": 57,
      "outputs": [
        {
          "output_type": "execute_result",
          "data": {
            "text/plain": [
              "1"
            ]
          },
          "metadata": {},
          "execution_count": 57
        }
      ]
    },
    {
      "cell_type": "code",
      "source": [
        "fig, axs = plt.subplots(1, 1, figsize=(5, 5))\n",
        "\n",
        "for _ in range(100):\n",
        "    action = env.action_space.sample()  # agent policy that uses the observation and info\n",
        "    observation, reward, terminated, truncated, info = env.step(action)\n",
        "\n",
        "    if terminated or truncated:\n",
        "        observation, info = env.reset()\n",
        "\n",
        "    axs.imshow(env.render())\n",
        "    axs.axis('off')\n",
        "    plt.pause(.01)\n",
        "\n",
        "env.close()"
      ],
      "metadata": {
        "colab": {
          "base_uri": "https://localhost:8080/",
          "height": 295
        },
        "id": "xKmBOW9_29UQ",
        "outputId": "e6851b6b-8cac-4260-ccef-88b47bc5a763"
      },
      "execution_count": 52,
      "outputs": [
        {
          "output_type": "display_data",
          "data": {
            "text/plain": [
              "<Figure size 500x500 with 1 Axes>"
            ],
            "image/png": "[encoded data removed]"
          },
          "metadata": {}
        }
      ]
    },
    {
      "cell_type": "code",
      "source": [
        "MemoryBlock = namedtuple('MemoryBlock', ('current', 'action', 'reward', 'next'))"
      ],
      "metadata": {
        "id": "CatEHV-C5Ard"
      },
      "execution_count": 62,
      "outputs": []
    },
    {
      "cell_type": "code",
      "source": [
        "block = MemoryBlock(1, 1, 2, 1)"
      ],
      "metadata": {
        "id": "awpIYsZg6Phm"
      },
      "execution_count": 64,
      "outputs": []
    },
    {
      "cell_type": "code",
      "source": [
        "block.action"
      ],
      "metadata": {
        "colab": {
          "base_uri": "https://localhost:8080/"
        },
        "id": "j0Xnvz_C6d9B",
        "outputId": "f2a5c582-9655-4fbb-95ee-39a561cecc76"
      },
      "execution_count": 68,
      "outputs": [
        {
          "output_type": "execute_result",
          "data": {
            "text/plain": [
              "1"
            ]
          },
          "metadata": {},
          "execution_count": 68
        }
      ]
    },
    {
      "cell_type": "code",
      "source": [
        "memory = deque(maxlen=10)"
      ],
      "metadata": {
        "id": "LlcxJRes6gH4"
      },
      "execution_count": 80,
      "outputs": []
    },
    {
      "cell_type": "code",
      "source": [
        "memory"
      ],
      "metadata": {
        "colab": {
          "base_uri": "https://localhost:8080/"
        },
        "id": "SaUTuWou6r81",
        "outputId": "703aa9af-8471-4647-a8eb-4270d08266ee"
      },
      "execution_count": 81,
      "outputs": [
        {
          "output_type": "execute_result",
          "data": {
            "text/plain": [
              "deque([])"
            ]
          },
          "metadata": {},
          "execution_count": 81
        }
      ]
    },
    {
      "cell_type": "code",
      "source": [
        "memory.append(100)"
      ],
      "metadata": {
        "id": "fSD6S3pK61Dh"
      },
      "execution_count": 82,
      "outputs": []
    },
    {
      "cell_type": "code",
      "source": [
        "memory"
      ],
      "metadata": {
        "colab": {
          "base_uri": "https://localhost:8080/"
        },
        "id": "AX6uGERC62dL",
        "outputId": "f26a33f1-4838-45a3-a1b7-06cf638f1ab2"
      },
      "execution_count": 83,
      "outputs": [
        {
          "output_type": "execute_result",
          "data": {
            "text/plain": [
              "deque([100])"
            ]
          },
          "metadata": {},
          "execution_count": 83
        }
      ]
    },
    {
      "cell_type": "code",
      "source": [
        "for i in range(10):\n",
        "  memory.append(i)\n",
        "  print(memory)"
      ],
      "metadata": {
        "colab": {
          "base_uri": "https://localhost:8080/"
        },
        "id": "W87WmNCE65fe",
        "outputId": "7f177f5b-a448-4fb4-b04d-aae531d306b2"
      },
      "execution_count": 84,
      "outputs": [
        {
          "output_type": "stream",
          "name": "stdout",
          "text": [
            "deque([100, 0], maxlen=10)\n",
            "deque([100, 0, 1], maxlen=10)\n",
            "deque([100, 0, 1, 2], maxlen=10)\n",
            "deque([100, 0, 1, 2, 3], maxlen=10)\n",
            "deque([100, 0, 1, 2, 3, 4], maxlen=10)\n",
            "deque([100, 0, 1, 2, 3, 4, 5], maxlen=10)\n",
            "deque([100, 0, 1, 2, 3, 4, 5, 6], maxlen=10)\n",
            "deque([100, 0, 1, 2, 3, 4, 5, 6, 7], maxlen=10)\n",
            "deque([100, 0, 1, 2, 3, 4, 5, 6, 7, 8], maxlen=10)\n",
            "deque([0, 1, 2, 3, 4, 5, 6, 7, 8, 9], maxlen=10)\n"
          ]
        }
      ]
    },
    {
      "cell_type": "code",
      "source": [
        "env = gym.make(\"LunarLander-v2\", render_mode=\"rgb_array\")\n",
        "observation, info = env.reset()\n",
        "\n",
        "memory = deque(maxlen=150)\n",
        "\n",
        "for _ in range(100):\n",
        "    action = env.action_space.sample()  # agent policy that uses the observation and info\n",
        "\n",
        "    current = observation.copy()\n",
        "    observation, reward, terminated, truncated, info = env.step(action)\n",
        "    block = MemoryBlock(current, action, reward, observation)\n",
        "    memory.append(block)\n",
        "\n",
        "    if terminated or truncated:\n",
        "        observation, info = env.reset()\n",
        "\n",
        "\n",
        "env.close()"
      ],
      "metadata": {
        "id": "V0EB3J8F6-GP"
      },
      "execution_count": 87,
      "outputs": []
    },
    {
      "cell_type": "code",
      "source": [
        "b1 = memory[0]\n",
        "b2 = memory[1]"
      ],
      "metadata": {
        "id": "Hd4Jcpkn7gS1"
      },
      "execution_count": 96,
      "outputs": []
    },
    {
      "cell_type": "code",
      "source": [
        "b1"
      ],
      "metadata": {
        "colab": {
          "base_uri": "https://localhost:8080/"
        },
        "id": "MKW7UpO87hYY",
        "outputId": "5338c33f-7b14-4bf1-94f7-3e09ae6dac7f"
      },
      "execution_count": 97,
      "outputs": [
        {
          "output_type": "execute_result",
          "data": {
            "text/plain": [
              "MemoryBlock(current=array([ 0.0032485 ,  1.4054555 ,  0.32901463, -0.24287517, -0.00375733,\n",
              "       -0.07452664,  0.        ,  0.        ], dtype=float32), action=0, reward=-1.3044605623392442, next=array([ 0.006497  ,  1.3994141 ,  0.32857022, -0.26852667, -0.00744009,\n",
              "       -0.07366162,  0.        ,  0.        ], dtype=float32))"
            ]
          },
          "metadata": {},
          "execution_count": 97
        }
      ]
    },
    {
      "cell_type": "code",
      "source": [
        "b2"
      ],
      "metadata": {
        "colab": {
          "base_uri": "https://localhost:8080/"
        },
        "id": "FuteA5op788U",
        "outputId": "fdca541a-a4a7-47dd-e211-93400c3ce372"
      },
      "execution_count": 98,
      "outputs": [
        {
          "output_type": "execute_result",
          "data": {
            "text/plain": [
              "MemoryBlock(current=array([ 0.006497  ,  1.3994141 ,  0.32857022, -0.26852667, -0.00744009,\n",
              "       -0.07366162,  0.        ,  0.        ], dtype=float32), action=2, reward=-1.3291067603536988, next=array([ 0.00991163,  1.3933325 ,  0.34438816, -0.2703012 , -0.01033648,\n",
              "       -0.05793293,  0.        ,  0.        ], dtype=float32))"
            ]
          },
          "metadata": {},
          "execution_count": 98
        }
      ]
    },
    {
      "cell_type": "code",
      "source": [
        "batch = MemoryBlock(*zip(*memory))"
      ],
      "metadata": {
        "id": "b0Z0mrcu79K8"
      },
      "execution_count": 115,
      "outputs": []
    },
    {
      "cell_type": "code",
      "source": [
        "batch.current"
      ],
      "metadata": {
        "colab": {
          "base_uri": "https://localhost:8080/"
        },
        "id": "t4YaNqJK8C4S",
        "outputId": "706880f1-a7d6-453e-f28e-3aa8917b9f99"
      },
      "execution_count": 116,
      "outputs": [
        {
          "output_type": "execute_result",
          "data": {
            "text/plain": [
              "(array([ 0.0032485 ,  1.4054555 ,  0.32901463, -0.24287517, -0.00375733,\n",
              "        -0.07452664,  0.        ,  0.        ], dtype=float32),\n",
              " array([ 0.006497  ,  1.3994141 ,  0.32857022, -0.26852667, -0.00744009,\n",
              "        -0.07366162,  0.        ,  0.        ], dtype=float32),\n",
              " array([ 0.00991163,  1.3933325 ,  0.34438816, -0.2703012 , -0.01033648,\n",
              "        -0.05793293,  0.        ,  0.        ], dtype=float32),\n",
              " array([ 0.01323576,  1.3866549 ,  0.33303937, -0.29678914, -0.01095505,\n",
              "        -0.0123724 ,  0.        ,  0.        ], dtype=float32),\n",
              " array([ 0.01642313,  1.3809104 ,  0.32008106, -0.25532517, -0.01228218,\n",
              "        -0.02654489,  0.        ,  0.        ], dtype=float32),\n",
              " array([ 0.0196105 ,  1.3745655 ,  0.32008517, -0.28200608, -0.01360798,\n",
              "        -0.02651851,  0.        ,  0.        ], dtype=float32),\n",
              " array([ 0.02286119,  1.3676276 ,  0.32800844, -0.30837443, -0.01652008,\n",
              "        -0.05824757,  0.        ,  0.        ], dtype=float32),\n",
              " array([ 0.0260045 ,  1.3614005 ,  0.31786153, -0.27680793, -0.0200112 ,\n",
              "        -0.06982894,  0.        ,  0.        ], dtype=float32),\n",
              " array([ 0.02913609,  1.3556799 ,  0.31680828, -0.25429958, -0.02362819,\n",
              "        -0.07234631,  0.        ,  0.        ], dtype=float32),\n",
              " array([ 0.03228216,  1.350129  ,  0.3182506 , -0.24676459, -0.02723356,\n",
              "        -0.07211356,  0.        ,  0.        ], dtype=float32),\n",
              " array([ 0.03551693,  1.3439851 ,  0.32936293, -0.2731835 , -0.03306038,\n",
              "        -0.11654727,  0.        ,  0.        ], dtype=float32),\n",
              " array([ 0.03875179,  1.3372415 ,  0.32938066, -0.29985175, -0.03888537,\n",
              "        -0.11651033,  0.        ,  0.        ], dtype=float32),\n",
              " array([ 0.04192553,  1.3298929 ,  0.3217017 , -0.32672888, -0.04317166,\n",
              "        -0.08573384,  0.        ,  0.        ], dtype=float32),\n",
              " array([ 0.04518175,  1.3219506 ,  0.33203125, -0.353187  , -0.04952039,\n",
              "        -0.12698598,  0.        ,  0.        ], dtype=float32),\n",
              " array([ 0.04841232,  1.314907  ,  0.32982442, -0.31328657, -0.05622081,\n",
              "        -0.13402088,  0.        ,  0.        ], dtype=float32),\n",
              " array([ 0.05172186,  1.3072615 ,  0.33972174, -0.34014696, -0.06490061,\n",
              "        -0.17361203,  0.        ,  0.        ], dtype=float32),\n",
              " array([ 0.05503168,  1.2990172 ,  0.33974722, -0.36681646, -0.07357845,\n",
              "        -0.17357238,  0.        ,  0.        ], dtype=float32),\n",
              " array([ 0.05834246,  1.2912889 ,  0.3400916 , -0.34394732, -0.08250807,\n",
              "        -0.17860876,  0.        ,  0.        ], dtype=float32),\n",
              " array([ 0.06172209,  1.2829638 ,  0.34867343, -0.37062198, -0.09314454,\n",
              "        -0.21274868,  0.        ,  0.        ], dtype=float32),\n",
              " array([ 0.06502628,  1.2740395 ,  0.33922154, -0.39720652, -0.10188421,\n",
              "        -0.17480874,  0.        ,  0.        ], dtype=float32),\n",
              " array([ 0.06852102,  1.2659017 ,  0.35781997, -0.36226854, -0.11017855,\n",
              "        -0.1659019 ,  0.        ,  0.        ], dtype=float32),\n",
              " array([ 0.07213764,  1.2581213 ,  0.3697724 , -0.34640688, -0.11823454,\n",
              "        -0.16113424,  0.        ,  0.        ], dtype=float32),\n",
              " array([ 0.07599831,  1.250621  ,  0.39334607, -0.33393574, -0.1254857 ,\n",
              "        -0.14503631,  0.        ,  0.        ], dtype=float32),\n",
              " array([ 0.07978897,  1.2425411 ,  0.3845337 , -0.35957322, -0.13093206,\n",
              "        -0.10893674,  0.        ,  0.        ], dtype=float32),\n",
              " array([ 0.08357992,  1.2338617 ,  0.38454834, -0.38624236, -0.136378  ,\n",
              "        -0.10892855,  0.        ,  0.        ], dtype=float32),\n",
              " array([ 0.08736897,  1.2245612 ,  0.3843667 , -0.41385975, -0.14182337,\n",
              "        -0.10890688,  0.        ,  0.        ], dtype=float32),\n",
              " array([ 0.09117527,  1.2154578 ,  0.3863613 , -0.4051519 , -0.14753653,\n",
              "        -0.11426322,  0.        ,  0.        ], dtype=float32),\n",
              " array([ 0.09506798,  1.2057257 ,  0.39723632, -0.43334863, -0.15548898,\n",
              "        -0.15904924,  0.        ,  0.        ], dtype=float32),\n",
              " array([ 0.09896078,  1.1953943 ,  0.39723513, -0.4600205 , -0.16344142,\n",
              "        -0.15904859,  0.        ,  0.        ], dtype=float32),\n",
              " array([ 0.10305023,  1.1857693 ,  0.41663918, -0.42865118, -0.1711515 ,\n",
              "        -0.15420182,  0.        ,  0.        ], dtype=float32),\n",
              " array([ 0.10713968,  1.1755449 ,  0.41663796, -0.45532274, -0.17886156,\n",
              "        -0.15420106,  0.        ,  0.        ], dtype=float32),\n",
              " array([ 0.11116524,  1.1647334 ,  0.40861574, -0.4812524 , -0.18494107,\n",
              "        -0.12159048,  0.        ,  0.        ], dtype=float32),\n",
              " array([ 0.1151638 ,  1.1540335 ,  0.40642828, -0.47639313, -0.19154665,\n",
              "        -0.13211167,  0.        ,  0.        ], dtype=float32),\n",
              " array([ 0.11916237,  1.1427339 ,  0.4064273 , -0.50306344, -0.19815221,\n",
              "        -0.13211125,  0.        ,  0.        ], dtype=float32),\n",
              " array([ 0.12323084,  1.1308116 ,  0.41521496, -0.53102475, -0.20657948,\n",
              "        -0.16854541,  0.        ,  0.        ], dtype=float32),\n",
              " array([ 0.12759057,  1.1193523 ,  0.44367886, -0.5104016 , -0.21436031,\n",
              "        -0.15561649,  0.        ,  0.        ], dtype=float32),\n",
              " array([ 0.1321722 ,  1.1080383 ,  0.46535143, -0.50390726, -0.22162652,\n",
              "        -0.1453242 ,  0.        ,  0.        ], dtype=float32),\n",
              " array([ 0.13710518,  1.0973196 ,  0.49971023, -0.4773649 , -0.2281169 ,\n",
              "        -0.1298075 ,  0.        ,  0.        ], dtype=float32),\n",
              " array([ 0.14234333,  1.086952  ,  0.52950966, -0.46167386, -0.23389536,\n",
              "        -0.11556929,  0.        ,  0.        ], dtype=float32),\n",
              " array([ 0.14751807,  1.0759965 ,  0.52158654, -0.4875675 , -0.23806275,\n",
              "        -0.08334794,  0.        ,  0.        ], dtype=float32),\n",
              " array([ 0.15269288,  1.0644413 ,  0.52158606, -0.51423556, -0.24223015,\n",
              "        -0.08334783,  0.        ,  0.        ], dtype=float32),\n",
              " array([ 0.15786782,  1.0522863 ,  0.5215855 , -0.5409037 , -0.24639754,\n",
              "        -0.08334772,  0.        ,  0.        ], dtype=float32),\n",
              " array([ 0.16310024,  1.0408137 ,  0.52803177, -0.5107082 , -0.25127062,\n",
              "        -0.09746158,  0.        ,  0.        ], dtype=float32),\n",
              " array([ 0.16864958,  1.029617  ,  0.5589772 , -0.49832523, -0.25539538,\n",
              "        -0.08249549,  0.        ,  0.        ], dtype=float32),\n",
              " array([ 0.17437668,  1.019299  ,  0.57709444, -0.45934814, -0.259876  ,\n",
              "        -0.08961239,  0.        ,  0.        ], dtype=float32),\n",
              " array([ 0.18010378,  1.0083812 ,  0.5770937 , -0.48601642, -0.2643566 ,\n",
              "        -0.08961224,  0.        ,  0.        ], dtype=float32),\n",
              " array([ 0.1859231 ,  0.99682903,  0.588689  , -0.5146646 , -0.2712742 ,\n",
              "        -0.1383522 ,  0.        ,  0.        ], dtype=float32),\n",
              " array([ 0.19174251,  0.98467755,  0.5886875 , -0.5413351 , -0.2781918 ,\n",
              "        -0.13835177,  0.        ,  0.        ], dtype=float32),\n",
              " array([ 0.19747925,  0.9719698 ,  0.5782013 , -0.5656596 , -0.2828468 ,\n",
              "        -0.09309985,  0.        ,  0.        ], dtype=float32),\n",
              " array([ 0.20321599,  0.9586623 ,  0.5782005 , -0.592328  , -0.28750178,\n",
              "        -0.09309975,  0.        ,  0.        ], dtype=float32),\n",
              " array([ 0.20902376,  0.9447341 ,  0.5870816 , -0.62028587, -0.29400042,\n",
              "        -0.12997194,  0.        ,  0.        ], dtype=float32),\n",
              " array([ 0.21475688,  0.9302393 ,  0.57767045, -0.6450995 , -0.2984922 ,\n",
              "        -0.08983554,  0.        ,  0.        ], dtype=float32),\n",
              " array([ 0.22040614,  0.9151806 ,  0.56708866, -0.6697237 , -0.3007316 ,\n",
              "        -0.04478817,  0.        ,  0.        ], dtype=float32),\n",
              " array([ 0.22598   ,  0.89956385,  0.5575346 , -0.69411033, -0.30088818,\n",
              "        -0.00313152,  0.        ,  0.        ], dtype=float32),\n",
              " array([ 0.23146506,  0.8833899 ,  0.54632086, -0.7183911 , -0.2986327 ,\n",
              "         0.0451091 ,  0.        ,  0.        ], dtype=float32),\n",
              " array([ 0.23701553,  0.866591  ,  0.5545404 , -0.7465191 , -0.2981128 ,\n",
              "         0.01039831,  0.        ,  0.        ], dtype=float32),\n",
              " array([ 0.24256602,  0.84919196,  0.5545404 , -0.77318585, -0.29759288,\n",
              "         0.01039837,  0.        ,  0.        ], dtype=float32),\n",
              " array([ 0.24834327,  0.8317434 ,  0.5767339 , -0.77528656, -0.29656732,\n",
              "         0.02051135,  0.        ,  0.        ], dtype=float32),\n",
              " array([ 0.25418806,  0.8136553 ,  0.5852955 , -0.80408293, -0.29741687,\n",
              "        -0.01699063,  0.        ,  0.        ], dtype=float32),\n",
              " array([ 0.26003274,  0.7949673 ,  0.5852954 , -0.83074963, -0.2982664 ,\n",
              "        -0.01699061,  0.        ,  0.        ], dtype=float32),\n",
              " array([ 0.26631337,  0.77691966,  0.62809825, -0.80212414, -0.2983126 ,\n",
              "        -0.00092363,  0.        ,  0.        ], dtype=float32),\n",
              " array([ 0.2725939 ,  0.7582721 ,  0.62809837, -0.82879084, -0.2983588 ,\n",
              "        -0.00092367,  0.        ,  0.        ], dtype=float32),\n",
              " array([ 2.7907389e-01,  7.3992133e-01,  6.4797944e-01, -8.1558305e-01,\n",
              "        -2.9833561e-01,  4.6390909e-04,  0.0000000e+00,  0.0000000e+00],\n",
              "       dtype=float32),\n",
              " array([ 0.28546923,  0.7210037 ,  0.63733035, -0.8403326 , -0.29606122,\n",
              "         0.04548761,  0.        ,  0.        ], dtype=float32),\n",
              " array([ 0.29180604,  0.70152026,  0.6298959 , -0.8651683 , -0.29216075,\n",
              "         0.07800949,  0.        ,  0.        ], dtype=float32),\n",
              " array([ 0.29806557,  0.6814782 ,  0.6201067 , -0.8896006 , -0.2861396 ,\n",
              "         0.12042297,  0.        ,  0.        ], dtype=float32),\n",
              " array([ 0.304393  ,  0.66080976,  0.62864447, -0.917799  , -0.28192195,\n",
              "         0.08435254,  0.        ,  0.        ], dtype=float32),\n",
              " array([ 0.31065854,  0.63955736,  0.62088794, -0.9434684 , -0.27610767,\n",
              "         0.11628503,  0.        ,  0.        ], dtype=float32),\n",
              " array([ 0.31683215,  0.6177396 ,  0.60932267, -0.96817976, -0.26786372,\n",
              "         0.16487893,  0.        ,  0.        ], dtype=float32),\n",
              " array([ 0.32300606,  0.5953227 ,  0.60932034, -0.9948518 , -0.2596198 ,\n",
              "         0.16487816,  0.        ,  0.        ], dtype=float32),\n",
              " array([ 0.32926998,  0.5733222 ,  0.61870646, -0.9764615 , -0.25177723,\n",
              "         0.1568514 ,  0.        ,  0.        ], dtype=float32),\n",
              " array([ 0.335534  ,  0.5507224 ,  0.6187045 , -1.0031332 , -0.24393468,\n",
              "         0.15685079,  0.        ,  0.        ], dtype=float32),\n",
              " array([ 0.34193307,  0.5280501 ,  0.63197047, -1.0063579 , -0.23587935,\n",
              "         0.16110703,  0.        ,  0.        ], dtype=float32),\n",
              " array([ 0.3483321 ,  0.5047788 ,  0.6319685 , -1.0330298 , -0.22782403,\n",
              "         0.16110618,  0.        ,  0.        ], dtype=float32),\n",
              " array([ 0.35482207,  0.4808718 ,  0.6434083 , -1.061682  , -0.22217   ,\n",
              "         0.11308068,  0.        ,  0.        ], dtype=float32),\n",
              " array([ 0.36123332,  0.45639145,  0.63350135, -1.0868869 , -0.21445887,\n",
              "         0.1542222 ,  0.        ,  0.        ], dtype=float32),\n",
              " array([ 0.36755657,  0.4313467 ,  0.6223889 , -1.1116874 , -0.2044231 ,\n",
              "         0.20071515,  0.        ,  0.        ], dtype=float32),\n",
              " array([ 0.3738801 ,  0.4057033 ,  0.62238616, -1.1383624 , -0.1943874 ,\n",
              "         0.20071383,  0.        ,  0.        ], dtype=float32),\n",
              " array([ 0.3802759 ,  0.37943146,  0.63148636, -1.1665958 , -0.18625432,\n",
              "         0.16266184,  0.        ,  0.        ], dtype=float32),\n",
              " array([ 0.3866108 ,  0.35258853,  0.6237731 , -1.1918262 , -0.17650253,\n",
              "         0.19503552,  0.        ,  0.        ], dtype=float32),\n",
              " array([ 0.3928669 ,  0.32515943,  0.6138825 , -1.2177227 , -0.1647498 ,\n",
              "         0.23505464,  0.        ,  0.        ], dtype=float32),\n",
              " array([ 0.39912328,  0.29713205,  0.6138795 , -1.2444009 , -0.15299718,\n",
              "         0.23505235,  0.        ,  0.        ], dtype=float32),\n",
              " array([ 0.40555716,  0.26928914,  0.63117206, -1.23625   , -0.14080116,\n",
              "         0.24392083,  0.        ,  0.        ], dtype=float32),\n",
              " array([ 0.41192016,  0.24086352,  0.62222606, -1.262094  , -0.12678766,\n",
              "         0.28026995,  0.        ,  0.        ], dtype=float32),\n",
              " array([ 0.4183545 ,  0.2118345 ,  0.63115126, -1.2891777 , -0.11456715,\n",
              "         0.24441049,  0.        ,  0.        ], dtype=float32),\n",
              " array([ 0.42478913,  0.18220748,  0.63114893, -1.3158567 , -0.10234676,\n",
              "         0.24440798,  0.        ,  0.        ], dtype=float32),\n",
              " array([ 0.43113318,  0.15199342,  0.6197608 , -1.3419081 , -0.08783399,\n",
              "         0.29025573,  0.        ,  0.        ], dtype=float32),\n",
              " array([ 0.43754464,  0.12116834,  0.6282196 , -1.369294  , -0.07503272,\n",
              "         0.25602564,  0.        ,  0.        ], dtype=float32),\n",
              " array([ 0.44387072,  0.08976682,  0.6174868 , -1.3949317 , -0.06005894,\n",
              "         0.2994754 ,  0.        ,  0.        ], dtype=float32),\n",
              " array([ 0.45019692,  0.05776836,  0.6174848 , -1.4216172 , -0.04508539,\n",
              "         0.29947075,  0.        ,  0.        ], dtype=float32),\n",
              " array([ 0.45643815,  0.0251823 ,  0.60678774, -1.4478359 , -0.02796434,\n",
              "         0.34242067,  0.        ,  0.        ], dtype=float32),\n",
              " array([ 0.46254796, -0.00653446,  0.5943854 , -1.4094068 , -0.01157715,\n",
              "         0.3277441 ,  0.        ,  0.        ], dtype=float32),\n",
              " array([ 0.46856374, -0.03884045,  0.5825814 , -1.4357822 ,  0.00717474,\n",
              "         0.37503785,  1.        ,  0.        ], dtype=float32),\n",
              " array([ 0.47394055, -0.07029414,  0.5007308 , -1.398636  ,  0.03890656,\n",
              "         0.62863874,  1.        ,  0.        ], dtype=float32),\n",
              " array([ 6.3772203e-04,  1.4035777e+00,  6.4582005e-02, -3.2633755e-01,\n",
              "        -7.3219155e-04, -1.4628743e-02,  0.0000000e+00,  0.0000000e+00],\n",
              "       dtype=float32),\n",
              " array([ 1.2557984e-03,  1.3968295e+00,  6.2634937e-02, -2.9991859e-01,\n",
              "        -1.5520940e-03, -1.6398780e-02,  0.0000000e+00,  0.0000000e+00],\n",
              "       dtype=float32),\n",
              " array([ 2.0483017e-03,  1.3907650e+00,  7.9237178e-02, -2.6953679e-01,\n",
              "        -1.5398865e-03,  2.4391804e-04,  0.0000000e+00,  0.0000000e+00],\n",
              "       dtype=float32),\n",
              " array([ 2.8409003e-03,  1.3841002e+00,  7.9236843e-02, -2.9621407e-01,\n",
              "        -1.5283929e-03,  2.3040108e-04,  0.0000000e+00,  0.0000000e+00],\n",
              "       dtype=float32),\n",
              " array([ 0.00369711,  1.3768382 ,  0.08724354, -0.3227533 , -0.00312197,\n",
              "        -0.03187469,  0.        ,  0.        ], dtype=float32),\n",
              " array([ 0.00447617,  1.3689772 ,  0.0775428 , -0.3493837 , -0.00276848,\n",
              "         0.00707043,  0.        ,  0.        ], dtype=float32))"
            ]
          },
          "metadata": {},
          "execution_count": 116
        }
      ]
    },
    {
      "cell_type": "code",
      "source": [
        "s = random.sample(memory, 10)\n",
        "batch = MemoryBlock(*zip(*s))"
      ],
      "metadata": {
        "id": "dkcpe-Qw9E2X"
      },
      "execution_count": 119,
      "outputs": []
    },
    {
      "cell_type": "code",
      "source": [
        "batch.reward"
      ],
      "metadata": {
        "colab": {
          "base_uri": "https://localhost:8080/"
        },
        "id": "Z2dSnIvO9P62",
        "outputId": "93da11b9-a8a7-4090-8862-dbf46a493ace"
      },
      "execution_count": 120,
      "outputs": [
        {
          "output_type": "execute_result",
          "data": {
            "text/plain": [
              "(0.7480714012465353,\n",
              " -0.6803533446248753,\n",
              " 3.16454145519175,\n",
              " -0.4614322955537659,\n",
              " -1.2174461058552595,\n",
              " 0.24074994760946994,\n",
              " -0.9185988699621135,\n",
              " -0.9376932553099369,\n",
              " -0.575740884578579,\n",
              " -0.37997100287804986)"
            ]
          },
          "metadata": {},
          "execution_count": 120
        }
      ]
    },
    {
      "cell_type": "code",
      "source": [],
      "metadata": {
        "id": "Ej2l8P2R9U3E"
      },
      "execution_count": null,
      "outputs": []
    }
  ]
}