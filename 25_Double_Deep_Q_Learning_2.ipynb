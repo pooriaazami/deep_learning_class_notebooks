{
  "nbformat": 4,
  "nbformat_minor": 0,
  "metadata": {
    "colab": {
      "provenance": [],
      "gpuType": "T4",
      "authorship_tag": "ABX9TyO5oExkA5B4ZMegA5eJNX6v",
      "include_colab_link": true
    },
    "kernelspec": {
      "name": "python3",
      "display_name": "Python 3"
    },
    "language_info": {
      "name": "python"
    },
    "accelerator": "GPU"
  },
  "cells": [
    {
      "cell_type": "markdown",
      "metadata": {
        "id": "view-in-github",
        "colab_type": "text"
      },
      "source": [
        "<a href=\"https://colab.research.google.com/github/pooriaazami/deep_learning_class_notebooks/blob/main/25_Double_Deep_Q_Learning_2.ipynb\" target=\"_parent\"><img src=\"https://colab.research.google.com/assets/colab-badge.svg\" alt=\"Open In Colab\"/></a>"
      ]
    },
    {
      "cell_type": "markdown",
      "source": [
        "Main source: https://pytorch.org/tutorials/intermediate/reinforcement_q_learning.html"
      ],
      "metadata": {
        "id": "e2c9wneh2jNf"
      }
    },
    {
      "cell_type": "code",
      "execution_count": 1,
      "metadata": {
        "colab": {
          "base_uri": "https://localhost:8080/"
        },
        "id": "kMrwaCQ804lM",
        "outputId": "51b22a64-3639-4925-b883-7affe72d375f"
      },
      "outputs": [
        {
          "output_type": "stream",
          "name": "stdout",
          "text": [
            "\u001b[2K     \u001b[90m━━━━━━━━━━━━━━━━━━━━━━━━━━━━━━━━━━━━━━━━\u001b[0m \u001b[32m953.9/953.9 kB\u001b[0m \u001b[31m4.4 MB/s\u001b[0m eta \u001b[36m0:00:00\u001b[0m\n",
            "\u001b[?25h"
          ]
        }
      ],
      "source": [
        "!pip install -q gymnasium[classic_control]"
      ]
    },
    {
      "cell_type": "code",
      "source": [
        "import math\n",
        "import random\n",
        "from collections import namedtuple, deque\n",
        "from itertools import count\n",
        "\n",
        "import gymnasium as gym\n",
        "\n",
        "import torch\n",
        "import torch.nn as nn\n",
        "import torch.nn.functional as F\n",
        "import torch.optim as optim\n",
        "\n",
        "from IPython import display\n",
        "\n",
        "import numpy as np\n",
        "import matplotlib.pyplot as plt"
      ],
      "metadata": {
        "id": "S-VcJSlJ2hM3"
      },
      "execution_count": 2,
      "outputs": []
    },
    {
      "cell_type": "code",
      "source": [
        "env = gym.make('CartPole-v1')"
      ],
      "metadata": {
        "id": "d4JAWIO23I6V"
      },
      "execution_count": 3,
      "outputs": []
    },
    {
      "cell_type": "code",
      "source": [
        "BATCH_SIZE = 128\n",
        "NUM_EPISODES = 600\n",
        "\n",
        "GAMMA = .99 # Discount factor\n",
        "\n",
        "# epsilon-greedy parameters:\n",
        "EPS_START = .9\n",
        "EPS_END = .05\n",
        "EPS_DECAY = 1000\n",
        "\n",
        "TAU = 5e-3\n",
        "\n",
        "LR = 1e-4\n",
        "CLIP_VALUE = 100\n",
        "\n",
        "MEMORY_SIZE = 10000\n",
        "\n",
        "DEVICE = 'cuda' if torch.cuda.is_available() else 'cpu'"
      ],
      "metadata": {
        "id": "-tf9lVbc3CsC"
      },
      "execution_count": 4,
      "outputs": []
    },
    {
      "cell_type": "code",
      "source": [
        "state, info = env.reset()\n",
        "N_OBSERVATIONS = len(state)\n",
        "N_ACTIONS = env.action_space.n"
      ],
      "metadata": {
        "id": "7LuXu5sU5qGW"
      },
      "execution_count": 5,
      "outputs": []
    },
    {
      "cell_type": "code",
      "source": [
        "plt.ion()"
      ],
      "metadata": {
        "colab": {
          "base_uri": "https://localhost:8080/"
        },
        "id": "9Py_Q-6j3M9n",
        "outputId": "f3bfeeed-f12b-44b3-fa5b-f7dc89c5af2c"
      },
      "execution_count": 6,
      "outputs": [
        {
          "output_type": "execute_result",
          "data": {
            "text/plain": [
              "<contextlib.ExitStack at 0x7f1c9e13d810>"
            ]
          },
          "metadata": {},
          "execution_count": 6
        }
      ]
    },
    {
      "cell_type": "code",
      "source": [
        "MemoryBlock = namedtuple('MemoryBlock', ('state', 'action', 'reward', 'next_state'))\n",
        "\n",
        "class ReplayMemory:\n",
        "  def __init__(self, capacity):\n",
        "    self.memory = deque(maxlen=capacity)\n",
        "\n",
        "  def __len__(self):\n",
        "    return len(self.memory)\n",
        "\n",
        "  def push(self, state, action, reward, next_state):\n",
        "    block = MemoryBlock(state, action, reward, next_state)\n",
        "    self.memory.append(block)\n",
        "\n",
        "  def sample(self, batch_size):\n",
        "    return random.sample(self.memory, batch_size)"
      ],
      "metadata": {
        "id": "A-qtTzAV3ZY8"
      },
      "execution_count": 7,
      "outputs": []
    },
    {
      "cell_type": "code",
      "source": [
        "class PolicyNetwork(nn.Module):\n",
        "  def __init__(self, n_observations, n_actions, latent_dim=128):\n",
        "    super().__init__()\n",
        "\n",
        "    self.layers = nn.Sequential(\n",
        "        nn.Linear(n_observations, latent_dim),\n",
        "        nn.ReLU(),\n",
        "        nn.Linear(latent_dim, latent_dim),\n",
        "        nn.ReLU(),\n",
        "        nn.Linear(latent_dim, n_actions)\n",
        "    )\n",
        "\n",
        "  def forward(self, x):\n",
        "    return self.layers(x)"
      ],
      "metadata": {
        "id": "3EQxRKlX4gPh"
      },
      "execution_count": 8,
      "outputs": []
    },
    {
      "cell_type": "code",
      "source": [
        "policy_net = PolicyNetwork(N_OBSERVATIONS, N_ACTIONS).to(DEVICE)\n",
        "target_net = PolicyNetwork(N_OBSERVATIONS, N_ACTIONS).to(DEVICE)\n",
        "\n",
        "target_net.load_state_dict(policy_net.state_dict())"
      ],
      "metadata": {
        "colab": {
          "base_uri": "https://localhost:8080/"
        },
        "id": "y3MogvRV5MmR",
        "outputId": "e3742ebb-08ad-4d5d-cb64-c9a0333e7f68"
      },
      "execution_count": 9,
      "outputs": [
        {
          "output_type": "execute_result",
          "data": {
            "text/plain": [
              "<All keys matched successfully>"
            ]
          },
          "metadata": {},
          "execution_count": 9
        }
      ]
    },
    {
      "cell_type": "code",
      "source": [
        "optimizer = optim.AdamW(policy_net.parameters(), lr=LR, amsgrad=True)\n",
        "criterion = nn.SmoothL1Loss()"
      ],
      "metadata": {
        "id": "vZTxKNpG6IAT"
      },
      "execution_count": 10,
      "outputs": []
    },
    {
      "cell_type": "code",
      "source": [
        "memory = ReplayMemory(MEMORY_SIZE)"
      ],
      "metadata": {
        "id": "qK5Uinxk6Uxp"
      },
      "execution_count": 11,
      "outputs": []
    },
    {
      "cell_type": "code",
      "source": [
        "x = np.array(range(6000))\n",
        "\n",
        "eps = EPS_END + (EPS_START - EPS_END) * np.exp(-1 * x / EPS_DECAY)\n",
        "\n",
        "plt.plot(x, eps)\n",
        "plt.show()"
      ],
      "metadata": {
        "colab": {
          "base_uri": "https://localhost:8080/",
          "height": 430
        },
        "id": "ln4qZVoT7Dhi",
        "outputId": "66003bd4-5de0-453c-dff1-5f7174cb12f3"
      },
      "execution_count": 12,
      "outputs": [
        {
          "output_type": "display_data",
          "data": {
            "text/plain": [
              "<Figure size 640x480 with 1 Axes>"
            ],
            "image/png": "[encoded data removed]"
          },
          "metadata": {}
        }
      ]
    },
    {
      "cell_type": "code",
      "source": [
        "steps_done = 0\n",
        "\n",
        "def select_action(state):\n",
        "  global steps_done\n",
        "\n",
        "  eps = EPS_END + (EPS_START - EPS_END) * math.exp(-1 * steps_done / EPS_DECAY)\n",
        "  steps_done += 1\n",
        "\n",
        "  if random.random() > eps:\n",
        "    with torch.no_grad():\n",
        "      action = policy_net(state).max(1).indices.view(1, 1)\n",
        "  else:\n",
        "    action = torch.tensor([[env.action_space.sample()]], device=DEVICE, dtype=torch.long)\n",
        "\n",
        "  return action"
      ],
      "metadata": {
        "id": "YijGFqvN6b6E"
      },
      "execution_count": 13,
      "outputs": []
    },
    {
      "cell_type": "code",
      "source": [
        "def optimize_model():\n",
        "  if len(memory) < BATCH_SIZE:\n",
        "    return\n",
        "\n",
        "  optimizer.zero_grad()\n",
        "\n",
        "  history = memory.sample(BATCH_SIZE)\n",
        "  batch = MemoryBlock(*zip(*history))\n",
        "\n",
        "  state_batch = torch.cat(batch.state)\n",
        "  action_batch = torch.cat(batch.action)\n",
        "  reward_batch = torch.cat(batch.reward)\n",
        "\n",
        "  state_action_values = policy_net(state_batch).gather(1, action_batch)\n",
        "\n",
        "  non_final_mask = torch.tensor(tuple(map(lambda s: s is not None, batch.next_state)), device=DEVICE, dtype=torch.bool)\n",
        "  non_final_next_state = torch.cat([s for s in batch.next_state if s is not None])\n",
        "  next_state_values = torch.zeros(BATCH_SIZE, device=DEVICE)\n",
        "\n",
        "  with torch.no_grad():\n",
        "    next_state_values[non_final_mask] = target_net(non_final_next_state).max(1).values\n",
        "\n",
        "  expected_state_action_values = (next_state_values * GAMMA) + reward_batch\n",
        "  loss = criterion(state_action_values, expected_state_action_values.unsqueeze(1))\n",
        "\n",
        "  loss.backward()\n",
        "\n",
        "  nn.utils.clip_grad_value_(policy_net.parameters(), CLIP_VALUE)\n",
        "  optimizer.step()"
      ],
      "metadata": {
        "id": "KtBs3WkB79yg"
      },
      "execution_count": 14,
      "outputs": []
    },
    {
      "cell_type": "code",
      "source": [
        "episode_durations = []"
      ],
      "metadata": {
        "id": "WsKcEq4u6_5T"
      },
      "execution_count": 15,
      "outputs": []
    },
    {
      "cell_type": "code",
      "source": [
        "for epoch in range(1, NUM_EPISODES + 1):\n",
        "  state, _ = env.reset()\n",
        "  state = torch.tensor(state, dtype=torch.float32, device=DEVICE).unsqueeze(0)\n",
        "\n",
        "  for t in count():\n",
        "    action = select_action(state)\n",
        "\n",
        "    observation, reward, terminated, truncated, _ = env.step(action.item())\n",
        "    reward = torch.tensor([reward], device=DEVICE)\n",
        "\n",
        "    if terminated:\n",
        "      next_state = None\n",
        "    else:\n",
        "      next_state = torch.tensor(observation, dtype=torch.float32, device=DEVICE).unsqueeze(0)\n",
        "\n",
        "    memory.push(state, action, reward, next_state)\n",
        "    state = next_state\n",
        "\n",
        "    optimize_model()\n",
        "\n",
        "    target_state_dict = target_net.state_dict()\n",
        "    policy_state_dict = policy_net.state_dict()\n",
        "\n",
        "    for key in policy_state_dict:\n",
        "      target_state_dict[key] = policy_state_dict[key] * TAU + target_state_dict[key] * (1 - TAU)\n",
        "\n",
        "    target_net.load_state_dict(target_state_dict)\n",
        "\n",
        "    if terminated or truncated:\n",
        "      episode_durations.append(t + 1)\n",
        "\n",
        "      if epoch % 50 == 0:\n",
        "        print(f'Episode {epoch} duration: {t + 1}')\n",
        "\n",
        "      break"
      ],
      "metadata": {
        "colab": {
          "base_uri": "https://localhost:8080/"
        },
        "id": "wO7NprE-_TQa",
        "outputId": "8ab15210-408f-452b-f081-926f7d4679e3"
      },
      "execution_count": 16,
      "outputs": [
        {
          "output_type": "stream",
          "name": "stdout",
          "text": [
            "Episode 50 duration: 10\n",
            "Episode 100 duration: 17\n",
            "Episode 150 duration: 8\n",
            "Episode 200 duration: 74\n",
            "Episode 250 duration: 119\n",
            "Episode 300 duration: 120\n",
            "Episode 350 duration: 145\n",
            "Episode 400 duration: 181\n",
            "Episode 450 duration: 318\n",
            "Episode 500 duration: 500\n",
            "Episode 550 duration: 500\n",
            "Episode 600 duration: 500\n"
          ]
        }
      ]
    },
    {
      "cell_type": "code",
      "source": [
        "plt.plot(episode_durations)\n",
        "\n",
        "plt.show()"
      ],
      "metadata": {
        "colab": {
          "base_uri": "https://localhost:8080/",
          "height": 430
        },
        "id": "s7t56VlbBr60",
        "outputId": "227e4320-e867-4da1-aedc-450b397db796"
      },
      "execution_count": 17,
      "outputs": [
        {
          "output_type": "display_data",
          "data": {
            "text/plain": [
              "<Figure size 640x480 with 1 Axes>"
            ],
            "image/png": "[encoded data removed]"
          },
          "metadata": {}
        }
      ]
    },
    {
      "cell_type": "code",
      "source": [],
      "metadata": {
        "id": "SkiYqlimB-lB"
      },
      "execution_count": 17,
      "outputs": []
    }
  ]
}